{
 "cells": [
  {
   "cell_type": "code",
   "execution_count": 1,
   "metadata": {},
   "outputs": [],
   "source": [
    "import numpy as np"
   ]
  },
  {
   "cell_type": "code",
   "execution_count": 3,
   "metadata": {},
   "outputs": [],
   "source": [
    "vals = []\n",
    "with open('a_few_answers.txt') as f:\n",
    "    for line in f:\n",
    "        vals.append(int(line[len('The answer is '):]))"
   ]
  },
  {
   "cell_type": "code",
   "execution_count": 5,
   "metadata": {},
   "outputs": [],
   "source": [
    "vals = np.array(vals)"
   ]
  },
  {
   "cell_type": "code",
   "execution_count": 6,
   "metadata": {},
   "outputs": [
    {
     "data": {
      "text/plain": [
       "array([ 523,  -17,   70,  136,  201,  268,  167, -499,  455,  -79,  381,\n",
       "       -357,  219, -209,  128,  499, -296,  180,  -87,  181,   46,   17,\n",
       "       -146,  492,  -45,  140,   32, -402,  400,  105,  486, -362,   39,\n",
       "        270, -410,  176,   41,  -97,  -28,  237,    2,  302, -286,  307,\n",
       "       -130,  318, -170,  324, -205,  262,  -63,  178,    1,   68,   51,\n",
       "        115,   34,  137,  -54,  129,   91,   35,  160,  -27,  106,   95,\n",
       "         39,  136,    3,   82,  121,   66,  111,    9,   85,   96,   96,\n",
       "         85,   39,  113,   70,  100,   88,   14,  144,   43,  130,  118,\n",
       "        -12,  147,   47,  101,  151,  -39,  178,   80,   71,  154,  -33,\n",
       "        146,  116,   40,  187,    4,  113,  120,   44,  153,   44,   79,\n",
       "        156,   81,  118,   87,  121,    3,  125,  162,   83,   85,  124,\n",
       "        123,   87,   88,   88,   88,   88,   88,   88,   88,   88,   88,\n",
       "         88,   88,   88,   88,   88,   88,   88,   88,   88,   88,   88,\n",
       "         88,   88,   88,   88,   88,   88,   88,   88,   88,   88,   88,\n",
       "         88,   88,   88,   88,   88,   88,   88,   88,   88,   88,   88,\n",
       "         88,   88,   88,   88,   88,   88,   88,   88,   88,   88,   88,\n",
       "         88,   88,   88,   88,   88,   88,   88,   88,   88,   88,   88,\n",
       "         88,   88,   88,   88,   88,   88,   88,   88,   88,   88,   88,\n",
       "         88,   88,   88,   88,   88,   88,   88,   88,   88,   88,   88,\n",
       "         88,   88,   88,   88,   88,   88,   88,   88,   88,   88,   88,\n",
       "         88,   88,   88])"
      ]
     },
     "execution_count": 6,
     "metadata": {},
     "output_type": "execute_result"
    }
   ],
   "source": [
    "last_gen = vals[0]\n",
    "for gen in range(50,)\n",
    "\n",
    "np.ediff1d(vals)"
   ]
  },
  {
   "cell_type": "code",
   "execution_count": 7,
   "metadata": {},
   "outputs": [
    {
     "data": {
      "text/plain": [
       "224"
      ]
     },
     "execution_count": 7,
     "metadata": {},
     "output_type": "execute_result"
    }
   ],
   "source": [
    "len(vals)"
   ]
  },
  {
   "cell_type": "code",
   "execution_count": 11,
   "metadata": {},
   "outputs": [
    {
     "data": {
      "text/plain": [
       "4400000000304"
      ]
     },
     "execution_count": 11,
     "metadata": {},
     "output_type": "execute_result"
    }
   ],
   "source": [
    "(int(50e9) - 225) * 88 + vals[-1] + 88"
   ]
  },
  {
   "cell_type": "code",
   "execution_count": null,
   "metadata": {},
   "outputs": [],
   "source": []
  }
 ],
 "metadata": {
  "kernelspec": {
   "display_name": "Python 3",
   "language": "python",
   "name": "python3"
  },
  "language_info": {
   "codemirror_mode": {
    "name": "ipython",
    "version": 3
   },
   "file_extension": ".py",
   "mimetype": "text/x-python",
   "name": "python",
   "nbconvert_exporter": "python",
   "pygments_lexer": "ipython3",
   "version": "3.7.1"
  }
 },
 "nbformat": 4,
 "nbformat_minor": 2
}
