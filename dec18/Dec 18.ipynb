{
 "cells": [
  {
   "cell_type": "code",
   "execution_count": 1,
   "metadata": {},
   "outputs": [],
   "source": [
    "import copy\n",
    "import numpy as np"
   ]
  },
  {
   "cell_type": "markdown",
   "metadata": {},
   "source": [
    "### Read in the data"
   ]
  },
  {
   "cell_type": "code",
   "execution_count": 2,
   "metadata": {},
   "outputs": [],
   "source": [
    "puzzle_input = 'input.txt'"
   ]
  },
  {
   "cell_type": "code",
   "execution_count": 3,
   "metadata": {},
   "outputs": [],
   "source": [
    "def read_data(filename):\n",
    "    grid = []\n",
    "    with open(filename) as f:\n",
    "        for line in f:\n",
    "            line = line.strip()\n",
    "            if not line:\n",
    "                break\n",
    "            grid.append(list(line))\n",
    "    return grid"
   ]
  },
  {
   "cell_type": "code",
   "execution_count": 4,
   "metadata": {},
   "outputs": [],
   "source": [
    "def print_grid(grid):\n",
    "    for line in grid:\n",
    "        print(''.join(line))"
   ]
  },
  {
   "cell_type": "markdown",
   "metadata": {},
   "source": [
    "### Part 1: Advance the state"
   ]
  },
  {
   "cell_type": "code",
   "execution_count": 5,
   "metadata": {},
   "outputs": [],
   "source": [
    "def adjacent(x, y, grid):\n",
    "    \"\"\" Iterate over coordinates that are in 8 directions from x, y \"\"\"\n",
    "    grid_width = len(grid[0])\n",
    "    if x > 0:\n",
    "        yield x - 1, y\n",
    "        if y > 0:\n",
    "            yield x - 1, y - 1\n",
    "    if y > 0:\n",
    "        yield x, y - 1\n",
    "        if x + 1 < grid_width:\n",
    "            yield x + 1, y - 1\n",
    "    if x + 1 < grid_width:\n",
    "        yield x + 1, y\n",
    "        if y + 1 < len(grid):\n",
    "            yield x + 1, y + 1\n",
    "    if y + 1 < len(grid):\n",
    "        yield x, y + 1\n",
    "        if x > 0:\n",
    "            yield x - 1, y + 1\n",
    "            \n",
    "def get_num(grid, ch):\n",
    "    return sum(1 for line in grid for c in line if c == ch)\n",
    "\n",
    "def get_neighbor_num(x, y, ch, grid):\n",
    "    return sum(1 for next_x, next_y in adjacent(x, y, grid) if grid[next_y][next_x] == ch)\n",
    "\n",
    "def advance(grid):\n",
    "    new_grid = copy.deepcopy(grid)\n",
    "    for y, line in enumerate(grid):\n",
    "        for x, spot in enumerate(line):\n",
    "            if spot == '.':\n",
    "                num_trees = get_neighbor_num(x, y, '|', grid)\n",
    "                if num_trees >= 3:\n",
    "                    new_grid[y][x] = '|'\n",
    "            if spot == '|':\n",
    "                num_lumber = get_neighbor_num(x, y, '#', grid)\n",
    "                if num_lumber >= 3:\n",
    "                    new_grid[y][x] = '#'\n",
    "            if spot == '#':\n",
    "                num_trees = get_neighbor_num(x, y, '|', grid)\n",
    "                num_lumber = get_neighbor_num(x, y, '#', grid)\n",
    "                if num_trees == 0 or num_lumber == 0:\n",
    "                    new_grid[y][x] = '.'\n",
    "    return new_grid"
   ]
  },
  {
   "cell_type": "code",
   "execution_count": 6,
   "metadata": {},
   "outputs": [],
   "source": [
    "grid = read_data(puzzle_input)\n",
    "\n",
    "for round_num in range(10):\n",
    "    grid = advance(grid)"
   ]
  },
  {
   "cell_type": "code",
   "execution_count": 7,
   "metadata": {},
   "outputs": [
    {
     "name": "stdout",
     "output_type": "stream",
     "text": [
      "The answer to part 1 is: 486878\n"
     ]
    }
   ],
   "source": [
    "print('The answer to part 1 is:', get_num(grid, '|') * get_num(grid, '#'))"
   ]
  },
  {
   "cell_type": "code",
   "execution_count": null,
   "metadata": {},
   "outputs": [],
   "source": []
  },
  {
   "cell_type": "markdown",
   "metadata": {},
   "source": [
    "### Part 2: Find the pattern"
   ]
  },
  {
   "cell_type": "code",
   "execution_count": 8,
   "metadata": {},
   "outputs": [
    {
     "name": "stdout",
     "output_type": "stream",
     "text": [
      "The answer to part 2 is: 190836\n"
     ]
    }
   ],
   "source": [
    "grid = read_data(puzzle_input)\n",
    "\n",
    "# Assume the pattern sets in after 1000\n",
    "for round_num in range(1000):\n",
    "    grid = advance(grid)\n",
    "\n",
    "# Continue in steps of two until we find the pattern length\n",
    "pattern = []\n",
    "while True:\n",
    "    grid = advance(grid)\n",
    "    pattern.append(get_num(grid, '|') * get_num(grid, '#'))\n",
    "    grid = advance(grid)\n",
    "    pattern.append(get_num(grid, '|') * get_num(grid, '#'))\n",
    "    if all(x == y for x, y in zip(pattern[:len(pattern) // 2], pattern[len(pattern) // 2:])):\n",
    "        break\n",
    "\n",
    "# We now have the pattern. Actually do the computation\n",
    "minutes_passed = 1000 + len(pattern)\n",
    "\n",
    "for _ in range((1000000000 - minutes_passed) % len(pattern)):\n",
    "    grid = advance(grid)\n",
    "\n",
    "print('The answer to part 2 is:', get_num(grid, '|') * get_num(grid, '#'))"
   ]
  }
 ],
 "metadata": {
  "kernelspec": {
   "display_name": "Python 3",
   "language": "python",
   "name": "python3"
  },
  "language_info": {
   "codemirror_mode": {
    "name": "ipython",
    "version": 3
   },
   "file_extension": ".py",
   "mimetype": "text/x-python",
   "name": "python",
   "nbconvert_exporter": "python",
   "pygments_lexer": "ipython3",
   "version": "3.7.1"
  }
 },
 "nbformat": 4,
 "nbformat_minor": 2
}
