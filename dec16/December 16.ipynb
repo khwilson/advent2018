{
 "cells": [
  {
   "cell_type": "code",
   "execution_count": 1,
   "metadata": {},
   "outputs": [],
   "source": [
    "import copy\n",
    "from collections import namedtuple\n",
    "from functools import wraps"
   ]
  },
  {
   "cell_type": "code",
   "execution_count": 2,
   "metadata": {},
   "outputs": [
    {
     "name": "stdout",
     "output_type": "stream",
     "text": [
      "There are 16 ops\n"
     ]
    }
   ],
   "source": [
    "# There should be 16 operations.\n",
    "\n",
    "all_ops = []\n",
    "\n",
    "def make_op(op):\n",
    "    \"\"\"\n",
    "    We are a bit lazy and just make a copy of the registers everytime\n",
    "    to avoid state collisions\n",
    "    \"\"\"\n",
    "    @wraps(op)\n",
    "    def new_op(regs, a, b, c):\n",
    "        regs = list(copy.copy(regs))\n",
    "        op(regs, a, b, c)\n",
    "        return tuple(regs)\n",
    "    all_ops.append(new_op)\n",
    "    return new_op\n",
    "\n",
    "@make_op\n",
    "def addr(regs, a, b, c):\n",
    "    regs[c] = regs[a] + regs[b]\n",
    "\n",
    "@make_op\n",
    "def addi(regs, a, b, c):\n",
    "    regs[c] = regs[a] + b\n",
    "\n",
    "@make_op\n",
    "def mulr(regs, a, b, c):\n",
    "    regs[c] = regs[a] * regs[b]\n",
    "\n",
    "@make_op\n",
    "def muli(regs, a, b, c):\n",
    "    regs[c] = regs[a] * b\n",
    "\n",
    "@make_op\n",
    "def banr(regs, a, b, c):\n",
    "    regs[c] = regs[a] & regs[b]\n",
    "\n",
    "@make_op\n",
    "def bani(regs, a, b, c):\n",
    "    regs[c] = regs[a] & b\n",
    "\n",
    "@make_op\n",
    "def borr(regs, a, b, c):\n",
    "    regs[c] = regs[a] | regs[b]\n",
    "\n",
    "@make_op\n",
    "def bori(regs, a, b, c):\n",
    "    regs[c] = regs[a] | b\n",
    "\n",
    "@make_op\n",
    "def setr(regs, a, b, c):\n",
    "    regs[c] = regs[a]\n",
    "\n",
    "@make_op\n",
    "def seti(regs, a, b, c):\n",
    "    regs[c] = a\n",
    "\n",
    "@make_op\n",
    "def gtri(regs, a, b, c):\n",
    "    regs[c] = 1 if regs[a] > b else 0\n",
    "\n",
    "@make_op\n",
    "def gtir(regs, a, b, c):\n",
    "    regs[c] = 1 if a > regs[b] else 0\n",
    "\n",
    "@make_op\n",
    "def gtrr(regs, a, b, c):\n",
    "    regs[c] = 1 if regs[a] > regs[b] else 0\n",
    "\n",
    "@make_op\n",
    "def eqri(regs, a, b, c):\n",
    "    regs[c] = 1 if regs[a] == b else 0\n",
    "\n",
    "@make_op\n",
    "def eqir(regs, a, b, c):\n",
    "    regs[c] = 1 if a == regs[b] else 0\n",
    "\n",
    "@make_op\n",
    "def eqrr(regs, a, b, c):\n",
    "    regs[c] = 1 if regs[a] == regs[b] else 0\n",
    "\n",
    "print('There are {} ops'.format(len(all_ops)))"
   ]
  },
  {
   "cell_type": "code",
   "execution_count": 3,
   "metadata": {},
   "outputs": [
    {
     "name": "stdout",
     "output_type": "stream",
     "text": [
      "Number of lines: 812\n",
      "First line: Line(before=(1, 2, 3, 2), instruction=(3, 1, 3, 0), after=(1, 2, 3, 2))\n",
      "Last line: Line(before=(1, 0, 1, 2), instruction=(1, 1, 0, 1), after=(1, 1, 1, 2))\n"
     ]
    }
   ],
   "source": [
    "# Read in the input file\n",
    "\n",
    "Line = namedtuple('Line', 'before instruction after')\n",
    "lines = []\n",
    "\n",
    "with open('input.txt') as f:\n",
    "    while True:\n",
    "        before = next(f)\n",
    "        instruction = next(f)\n",
    "        after = next(f)\n",
    "        blank = next(f)\n",
    "\n",
    "        if not before.startswith('Before'):\n",
    "            # The input breaks to the second half at some point\n",
    "            break\n",
    "            \n",
    "        line = Line(before=tuple(eval(before[len('Before: '):].strip())),\n",
    "             after=tuple(eval(after[len('After: '):].strip())),\n",
    "             instruction=tuple(map(int, instruction.strip().split())))\n",
    "        lines.append(line)\n",
    "        \n",
    "# Make sure we read things right\n",
    "print('Number of lines:', len(lines))\n",
    "print('First line:', lines[0])\n",
    "print('Last line:', lines[-1])"
   ]
  },
  {
   "cell_type": "code",
   "execution_count": 4,
   "metadata": {},
   "outputs": [
    {
     "data": {
      "text/plain": [
       "592"
      ]
     },
     "execution_count": 4,
     "metadata": {},
     "output_type": "execute_result"
    }
   ],
   "source": [
    "# Part 1: How many can satisfy at least three instructions?\n",
    "sum(1 for line in lines \n",
    "    if sum(op(line.before, \n",
    "              line.instruction[1],\n",
    "              line.instruction[2],\n",
    "              line.instruction[3]) == line.after\n",
    "           for op in all_ops) >= 3)"
   ]
  },
  {
   "cell_type": "code",
   "execution_count": 5,
   "metadata": {},
   "outputs": [],
   "source": [
    "# Part 2a: Deduce which code corresponds to which op.\n",
    "# At first, all codes are possible\n",
    "\n",
    "possible_codes = {\n",
    "    op: set(range(16)) for op in all_ops\n",
    "}"
   ]
  },
  {
   "cell_type": "code",
   "execution_count": 6,
   "metadata": {},
   "outputs": [],
   "source": [
    "# But each hint reduces the number of possibibilites\n",
    "for line in lines:\n",
    "    possible_ops = [op for op in all_ops if op(line.before, \n",
    "              line.instruction[1],\n",
    "              line.instruction[2],\n",
    "              line.instruction[3]) == line.after]\n",
    "    for op in set(all_ops) - set(possible_ops):\n",
    "        if line.instruction[0] in possible_codes[op]:\n",
    "            possible_codes[op].remove(line.instruction[0])"
   ]
  },
  {
   "cell_type": "code",
   "execution_count": 7,
   "metadata": {},
   "outputs": [
    {
     "data": {
      "text/plain": [
       "{<function __main__.addr(regs, a, b, c)>: {1, 2, 7, 8, 9},\n",
       " <function __main__.addi(regs, a, b, c)>: {2, 9, 12, 14},\n",
       " <function __main__.mulr(regs, a, b, c)>: {0, 5, 6, 9, 12},\n",
       " <function __main__.muli(regs, a, b, c)>: {5, 7, 9},\n",
       " <function __main__.banr(regs, a, b, c)>: {9},\n",
       " <function __main__.bani(regs, a, b, c)>: {7, 9},\n",
       " <function __main__.borr(regs, a, b, c)>: {1, 2, 5, 6, 7, 9, 12, 14, 15},\n",
       " <function __main__.bori(regs, a, b, c)>: {2, 5, 7, 9, 12, 14, 15},\n",
       " <function __main__.setr(regs, a, b, c)>: {2, 7, 9},\n",
       " <function __main__.seti(regs, a, b, c)>: {1, 2, 3, 4, 9, 11, 13, 14},\n",
       " <function __main__.gtri(regs, a, b, c)>: {2, 4, 9, 11, 13},\n",
       " <function __main__.gtir(regs, a, b, c)>: {2, 9, 11},\n",
       " <function __main__.gtrr(regs, a, b, c)>: {2, 4, 7, 9, 11},\n",
       " <function __main__.eqri(regs, a, b, c)>: {1, 7, 11},\n",
       " <function __main__.eqir(regs, a, b, c)>: {1, 10, 11},\n",
       " <function __main__.eqrr(regs, a, b, c)>: {3, 11, 13}}"
      ]
     },
     "execution_count": 7,
     "metadata": {},
     "output_type": "execute_result"
    }
   ],
   "source": [
    "# It turns out that some ops have many possible codes!\n",
    "possible_codes"
   ]
  },
  {
   "cell_type": "code",
   "execution_count": 8,
   "metadata": {},
   "outputs": [],
   "source": [
    "# But if we go step by step and assign those that only have\n",
    "# one possibility\n",
    "\n",
    "definite_codes = {}\n",
    "while possible_codes:\n",
    "    for op, possibles in possible_codes.items():\n",
    "        # If there's only one possibility, assign to definite_codes\n",
    "        if len(possibles) == 1:\n",
    "            definite_codes[op] = next(iter(possibles))\n",
    "\n",
    "    # Remove all ops from possible_codes that have been assigned\n",
    "    for op in definite_codes:\n",
    "        if op in possible_codes:\n",
    "            del possible_codes[op]\n",
    "\n",
    "    # Remove assigned codes from possible_codes\n",
    "    for val in definite_codes.values():\n",
    "        for op in possible_codes:\n",
    "            if val in possible_codes[op]:\n",
    "                possible_codes[op].remove(val)"
   ]
  },
  {
   "cell_type": "code",
   "execution_count": 9,
   "metadata": {},
   "outputs": [
    {
     "name": "stdout",
     "output_type": "stream",
     "text": [
      "Leftover possible codes: 0\n",
      "Definite codes assigned: 16\n"
     ]
    }
   ],
   "source": [
    "# They all get assigned!\n",
    "print('Leftover possible codes:', len(possible_codes))\n",
    "print('Definite codes assigned:', len(definite_codes))"
   ]
  },
  {
   "cell_type": "code",
   "execution_count": 10,
   "metadata": {},
   "outputs": [],
   "source": [
    "# Change op -> code to code -> op\n",
    "code_to_op = [(v, k) for k, v in definite_codes.items()]\n",
    "code_to_op.sort()\n",
    "code_to_op = [k for _, k in code_to_op]"
   ]
  },
  {
   "cell_type": "code",
   "execution_count": 11,
   "metadata": {},
   "outputs": [
    {
     "name": "stdout",
     "output_type": "stream",
     "text": [
      "First line of program: (5, 1, 0, 0)\n",
      "Last line of program: (2, 3, 0, 0)\n"
     ]
    }
   ],
   "source": [
    "# Part 2b: Read in the program\n",
    "program = []\n",
    "with open('program.txt') as f:\n",
    "    for line in f:\n",
    "        line = line.strip()\n",
    "        program.append(tuple(map(int, line.split())))\n",
    "        \n",
    "# For debugging...\n",
    "print('First line of program:', program[0])\n",
    "print('Last line of program:', program[-1])"
   ]
  },
  {
   "cell_type": "code",
   "execution_count": 12,
   "metadata": {},
   "outputs": [],
   "source": [
    "# Run the program, starting with 0s in every register\n",
    "regs = (0, 0, 0, 0)\n",
    "for instruction in program:\n",
    "    regs = code_to_op[instruction[0]](regs, *instruction[1:])"
   ]
  },
  {
   "cell_type": "code",
   "execution_count": 13,
   "metadata": {},
   "outputs": [
    {
     "name": "stdout",
     "output_type": "stream",
     "text": [
      "(557, 6, 0, 557)\n"
     ]
    }
   ],
   "source": [
    "# The answer to part 2 is the value in register 0\n",
    "print(regs)"
   ]
  }
 ],
 "metadata": {
  "kernelspec": {
   "display_name": "Python 3",
   "language": "python",
   "name": "python3"
  },
  "language_info": {
   "codemirror_mode": {
    "name": "ipython",
    "version": 3
   },
   "file_extension": ".py",
   "mimetype": "text/x-python",
   "name": "python",
   "nbconvert_exporter": "python",
   "pygments_lexer": "ipython3",
   "version": "3.7.1"
  }
 },
 "nbformat": 4,
 "nbformat_minor": 2
}
