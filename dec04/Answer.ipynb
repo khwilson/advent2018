{
 "cells": [
  {
   "cell_type": "code",
   "execution_count": 22,
   "metadata": {},
   "outputs": [],
   "source": [
    "import re\n",
    "from datetime import datetime\n",
    "import pandas as pd\n",
    "\n",
    "RE = re.compile(r'\\[(.*)\\] (.*)')\n",
    "RE2 = re.compile('.*#(\\d*) .*')"
   ]
  },
  {
   "cell_type": "code",
   "execution_count": 23,
   "metadata": {},
   "outputs": [],
   "source": [
    "lines = [RE.match(line).groups() for line in open('input.txt')]\n",
    "lines = [(datetime.strptime(line[0], '%Y-%m-%d %H:%M'), line[1]) for line in lines]\n",
    "df = pd.DataFrame.from_records(lines, columns=['datetime', 'val'])\n",
    "df = df.sort_values('datetime')"
   ]
  },
  {
   "cell_type": "code",
   "execution_count": 24,
   "metadata": {},
   "outputs": [],
   "source": [
    "df['guard'] = df.val.apply(lambda x: RE2.match(x).groups()[0] if 'Guard' in x else float('nan'))\n",
    "df['guard'] = df.guard.fillna(method='ffill')"
   ]
  },
  {
   "cell_type": "code",
   "execution_count": 28,
   "metadata": {},
   "outputs": [],
   "source": [
    "df['fall_asleep'] = df.val.str.contains('asleep')\n",
    "df['wake_up'] = df.val.str.contains('wake')"
   ]
  },
  {
   "cell_type": "code",
   "execution_count": 35,
   "metadata": {},
   "outputs": [],
   "source": [
    "df['minute'] = df.datetime.apply(lambda x: x.minute)"
   ]
  },
  {
   "cell_type": "code",
   "execution_count": 44,
   "metadata": {},
   "outputs": [
    {
     "data": {
      "text/plain": [
       "guard\n",
       "1993    513\n",
       "1913    483\n",
       "193     479\n",
       "2137    461\n",
       "2399    413\n",
       "3491    361\n",
       "131     352\n",
       "3433    343\n",
       "1091    330\n",
       "229     326\n",
       "1237    323\n",
       "1709    295\n",
       "2939    286\n",
       "3373    266\n",
       "151     237\n",
       "2797    235\n",
       "1451    213\n",
       "2851    202\n",
       "821     167\n",
       "2731    142\n",
       "Name: minute, dtype: int64"
      ]
     },
     "execution_count": 44,
     "metadata": {},
     "output_type": "execute_result"
    }
   ],
   "source": [
    "(df[df.wake_up].groupby('guard').minute.sum() - df[df.fall_asleep].groupby('guard').minute.sum()).sort_values(ascending=False)"
   ]
  },
  {
   "cell_type": "code",
   "execution_count": 50,
   "metadata": {},
   "outputs": [],
   "source": [
    "import numpy as np\n",
    "\n",
    "minutes = np.zeros(60)\n",
    "for _, row in df[df.guard == '1993'].iterrows():\n",
    "    if row.fall_asleep:\n",
    "        minutes[row.minute:] += 1\n",
    "    elif row.wake_up:\n",
    "        minutes[row.minute:] -= 1\n",
    "        "
   ]
  },
  {
   "cell_type": "code",
   "execution_count": null,
   "metadata": {},
   "outputs": [],
   "source": []
  },
  {
   "cell_type": "code",
   "execution_count": 52,
   "metadata": {},
   "outputs": [
    {
     "data": {
      "text/plain": [
       "36"
      ]
     },
     "execution_count": 52,
     "metadata": {},
     "output_type": "execute_result"
    }
   ],
   "source": [
    "np.argmax(minutes)"
   ]
  },
  {
   "cell_type": "code",
   "execution_count": 53,
   "metadata": {},
   "outputs": [
    {
     "data": {
      "text/plain": [
       "71748"
      ]
     },
     "execution_count": 53,
     "metadata": {},
     "output_type": "execute_result"
    }
   ],
   "source": [
    "36*1993"
   ]
  },
  {
   "cell_type": "code",
   "execution_count": 60,
   "metadata": {},
   "outputs": [],
   "source": [
    "by_minutes = {\n",
    "    guard: np.zeros(60, dtype=int) for guard in df.guard.unique()\n",
    "}\n",
    "for _, row in df.iterrows():\n",
    "    if row.fall_asleep:\n",
    "        by_minutes[row.guard][row.minute:] += 1\n",
    "    elif row.wake_up:\n",
    "        by_minutes[row.guard][row.minute:] -= 1\n",
    "        "
   ]
  },
  {
   "cell_type": "code",
   "execution_count": 61,
   "metadata": {},
   "outputs": [
    {
     "data": {
      "text/plain": [
       "19"
      ]
     },
     "execution_count": 61,
     "metadata": {},
     "output_type": "execute_result"
    }
   ],
   "source": [
    "max(max(v for v in vv) for vv in by_minutes.values())"
   ]
  },
  {
   "cell_type": "code",
   "execution_count": 62,
   "metadata": {},
   "outputs": [
    {
     "data": {
      "text/plain": [
       "{'2939': array([1, 1, 2, 2, 2, 2, 2, 2, 2, 2, 2, 3, 3, 3, 3, 4, 5, 5, 6, 6, 6, 6,\n",
       "        7, 7, 7, 7, 7, 7, 7, 6, 7, 7, 8, 8, 8, 7, 7, 7, 6, 7, 8, 7, 8, 7,\n",
       "        7, 5, 5, 5, 5, 5, 3, 4, 5, 5, 3, 2, 3, 1, 1, 0]),\n",
       " '131': array([ 1,  1,  1,  1,  2,  2,  2,  4,  3,  3,  3,  5,  6,  6,  5,  5,  5,\n",
       "         5,  5,  5,  6,  7,  7,  6,  6,  6,  6,  6,  6,  6,  6,  6,  6,  8,\n",
       "         9,  9, 10, 11, 11, 12, 12, 10, 10, 11, 10,  8,  7,  8,  8,  8,  6,\n",
       "         6,  4,  4,  4,  5,  5,  5,  1,  0]),\n",
       " '2399': array([ 1,  2,  3,  3,  3,  3,  3,  4,  4,  4,  4,  4,  4,  4,  4,  4,  5,\n",
       "         5,  6,  6,  6,  6,  6,  7,  9, 10,  9, 10, 10,  9, 10, 10, 12, 13,\n",
       "        13, 13, 12, 11, 11, 11, 11, 10, 10, 10,  9,  9,  9,  9,  7,  6,  6,\n",
       "         5,  5,  5,  7,  7,  6,  6,  2,  0]),\n",
       " '3373': array([ 0,  0,  0,  1,  1,  1,  2,  2,  2,  2,  2,  2,  2,  2,  4,  4,  4,\n",
       "         4,  4,  3,  3,  5,  5,  5,  5,  4,  4,  4,  4,  5,  5,  5,  5,  5,\n",
       "         6,  6,  6,  6,  6,  9,  8, 10,  9,  8,  8,  7,  8,  8,  6,  5,  5,\n",
       "         5,  4,  6,  5,  6,  5,  5,  3,  0]),\n",
       " '1913': array([ 2,  2,  4,  4,  4,  4,  5,  6,  6,  6,  6,  7,  9, 10,  9,  9,  9,\n",
       "         9,  9,  9,  9,  7,  7,  8,  8,  8, 10, 10,  9,  9,  9, 10, 10, 10,\n",
       "         9,  9,  8, 10, 10, 10, 10, 10, 11, 13, 12, 11, 11, 11, 11, 11, 10,\n",
       "        11,  9,  8,  7,  6,  6,  5,  1,  0]),\n",
       " '2137': array([ 1,  2,  2,  2,  2,  2,  3,  3,  3,  4,  4,  4,  4,  4,  4,  4,  5,\n",
       "         6,  5,  5,  5,  6,  6,  6,  8,  8,  8,  9,  9,  9, 10, 11, 11, 11,\n",
       "        10,  9, 10, 10,  9, 10, 10, 10, 11, 11, 11, 11, 12, 14, 15, 17, 19,\n",
       "        18, 15, 13,  9,  6,  6,  7,  2,  0]),\n",
       " '193': array([ 1,  1,  2,  3,  3,  3,  5,  5,  7,  7,  7,  7,  9,  9,  8,  8,  7,\n",
       "         6,  7,  9,  8,  8,  8,  9, 12, 12, 12, 13, 11, 12, 12, 12, 12, 12,\n",
       "        12, 12, 12, 12, 12, 12, 11, 10, 10,  9,  9,  8,  8,  6,  7,  8,  8,\n",
       "         7,  7,  7,  8,  7,  6,  4,  0,  0]),\n",
       " '2797': array([0, 1, 1, 1, 1, 1, 1, 2, 2, 3, 3, 3, 3, 3, 3, 3, 3, 3, 3, 3, 3, 3,\n",
       "        3, 5, 5, 5, 5, 6, 5, 6, 5, 6, 6, 6, 5, 5, 6, 5, 6, 5, 5, 5, 5, 5,\n",
       "        4, 5, 6, 6, 5, 5, 7, 7, 7, 7, 4, 3, 2, 2, 1, 0]),\n",
       " '1993': array([ 0,  1,  1,  2,  2,  3,  4,  4,  4,  6,  7,  7,  8,  8,  8,  8,  9,\n",
       "        10, 11, 11, 11, 11, 11, 12, 12, 13, 13, 13, 14, 13, 14, 14, 14, 14,\n",
       "        14, 14, 15, 14, 14, 14, 14, 13, 13, 12, 12, 11, 10, 10,  9,  7,  8,\n",
       "         6,  5,  3,  2,  0,  0,  0,  0,  0]),\n",
       " '3433': array([ 0,  1,  2,  3,  3,  4,  4,  4,  4,  4,  6,  5,  5,  5,  5,  4,  4,\n",
       "         4,  4,  4,  6,  6,  6,  6,  6,  7,  7,  8,  8,  9,  9,  9,  8,  9,\n",
       "         9, 10, 10,  9,  9,  9,  8,  8,  8,  8,  8,  7,  6,  6,  6,  6,  5,\n",
       "         5,  6,  6,  5,  4,  3,  2,  1,  0]),\n",
       " '2731': array([0, 0, 0, 0, 0, 0, 0, 0, 0, 0, 0, 1, 1, 2, 2, 2, 2, 1, 2, 2, 3, 4,\n",
       "        4, 5, 6, 5, 4, 4, 4, 4, 4, 4, 5, 5, 5, 4, 4, 3, 3, 3, 3, 2, 2, 3,\n",
       "        2, 2, 3, 4, 3, 2, 3, 3, 2, 2, 1, 3, 3, 1, 0, 0]),\n",
       " '1451': array([0, 0, 1, 2, 2, 2, 2, 2, 2, 2, 3, 3, 4, 4, 3, 4, 4, 3, 3, 3, 3, 4,\n",
       "        4, 4, 4, 4, 5, 5, 5, 4, 8, 7, 8, 8, 8, 8, 8, 7, 6, 6, 6, 5, 5, 5,\n",
       "        4, 3, 3, 3, 2, 2, 2, 1, 1, 1, 1, 1, 1, 1, 1, 0]),\n",
       " '229': array([1, 1, 2, 2, 2, 3, 3, 3, 3, 3, 5, 5, 6, 6, 6, 7, 9, 8, 8, 7, 7, 7,\n",
       "        8, 7, 7, 7, 6, 5, 5, 6, 6, 7, 8, 8, 6, 6, 7, 7, 6, 6, 6, 6, 6, 6,\n",
       "        7, 7, 6, 6, 5, 6, 5, 6, 6, 6, 5, 4, 4, 4, 3, 0]),\n",
       " '1709': array([0, 0, 1, 2, 2, 2, 2, 2, 2, 2, 2, 4, 4, 4, 4, 6, 7, 8, 7, 6, 6, 7,\n",
       "        7, 7, 7, 7, 7, 7, 7, 7, 8, 8, 7, 7, 7, 8, 7, 7, 7, 6, 6, 5, 5, 6,\n",
       "        6, 7, 7, 6, 7, 5, 5, 5, 5, 5, 3, 2, 1, 1, 0, 0]),\n",
       " '821': array([1, 1, 1, 1, 1, 1, 1, 1, 1, 1, 1, 1, 2, 2, 2, 1, 1, 1, 1, 2, 2, 2,\n",
       "        3, 3, 3, 3, 3, 5, 6, 6, 5, 4, 4, 4, 4, 4, 4, 4, 4, 4, 4, 4, 3, 4,\n",
       "        5, 6, 6, 4, 4, 4, 3, 3, 3, 3, 3, 3, 2, 1, 1, 0]),\n",
       " '151': array([0, 0, 0, 0, 0, 2, 2, 3, 3, 3, 3, 3, 4, 4, 4, 5, 6, 6, 6, 7, 7, 7,\n",
       "        7, 6, 6, 6, 6, 6, 5, 5, 5, 5, 4, 5, 5, 5, 4, 4, 4, 4, 5, 5, 5, 5,\n",
       "        5, 4, 4, 4, 4, 4, 4, 4, 4, 4, 3, 2, 2, 1, 1, 0]),\n",
       " '3491': array([ 0,  0,  0,  0,  0,  0,  0,  0,  0,  1,  1,  3,  4,  4,  4,  6,  5,\n",
       "         5,  5,  5,  6,  6,  6,  6,  6,  6,  6,  6,  9,  9, 11, 11, 11, 11,\n",
       "        12, 12, 11, 10, 11, 11, 10,  9, 11,  9,  9, 10, 10,  9,  8,  7,  7,\n",
       "         6,  6,  4,  7,  7,  5,  4,  3,  0]),\n",
       " '2083': array([0, 0, 0, 0, 0, 0, 0, 0, 0, 0, 0, 0, 0, 0, 0, 0, 0, 0, 0, 0, 0, 0,\n",
       "        0, 0, 0, 0, 0, 0, 0, 0, 0, 0, 0, 0, 0, 0, 0, 0, 0, 0, 0, 0, 0, 0,\n",
       "        0, 0, 0, 0, 0, 0, 0, 0, 0, 0, 0, 0, 0, 0, 0, 0]),\n",
       " '2851': array([0, 0, 1, 1, 1, 1, 1, 1, 1, 1, 1, 2, 2, 2, 2, 2, 2, 2, 2, 2, 2, 2,\n",
       "        2, 3, 3, 3, 3, 3, 3, 3, 5, 5, 4, 4, 4, 4, 4, 4, 4, 5, 5, 4, 5, 5,\n",
       "        4, 4, 6, 7, 8, 8, 8, 7, 7, 7, 7, 4, 4, 4, 1, 0]),\n",
       " '1237': array([0, 0, 1, 1, 2, 2, 2, 2, 2, 5, 5, 5, 5, 5, 5, 5, 5, 6, 6, 6, 7, 7,\n",
       "        7, 7, 8, 8, 8, 7, 7, 7, 7, 8, 8, 9, 9, 9, 8, 7, 6, 5, 6, 7, 6, 6,\n",
       "        6, 5, 7, 7, 8, 6, 5, 6, 6, 6, 6, 4, 4, 2, 1, 0]),\n",
       " '1091': array([2, 3, 3, 3, 3, 3, 3, 3, 4, 4, 5, 6, 6, 6, 6, 6, 7, 8, 8, 8, 7, 7,\n",
       "        8, 8, 8, 7, 8, 8, 8, 9, 9, 8, 8, 8, 8, 8, 7, 7, 6, 7, 7, 7, 6, 4,\n",
       "        4, 5, 5, 5, 6, 6, 4, 2, 3, 3, 4, 3, 2, 2, 1, 0]),\n",
       " '1171': array([0, 0, 0, 0, 0, 0, 0, 0, 0, 0, 0, 0, 0, 0, 0, 0, 0, 0, 0, 0, 0, 0,\n",
       "        0, 0, 0, 0, 0, 0, 0, 0, 0, 0, 0, 0, 0, 0, 0, 0, 0, 0, 0, 0, 0, 0,\n",
       "        0, 0, 0, 0, 0, 0, 0, 0, 0, 0, 0, 0, 0, 0, 0, 0]),\n",
       " '2297': array([0, 0, 0, 0, 0, 0, 0, 0, 0, 0, 0, 0, 0, 0, 0, 0, 0, 0, 0, 0, 0, 0,\n",
       "        0, 0, 0, 0, 0, 0, 0, 0, 0, 0, 0, 0, 0, 0, 0, 0, 0, 0, 0, 0, 0, 0,\n",
       "        0, 0, 0, 0, 0, 0, 0, 0, 0, 0, 0, 0, 0, 0, 0, 0])}"
      ]
     },
     "execution_count": 62,
     "metadata": {},
     "output_type": "execute_result"
    }
   ],
   "source": [
    "by_minutes"
   ]
  },
  {
   "cell_type": "code",
   "execution_count": 64,
   "metadata": {},
   "outputs": [
    {
     "data": {
      "text/plain": [
       "50"
      ]
     },
     "execution_count": 64,
     "metadata": {},
     "output_type": "execute_result"
    }
   ],
   "source": [
    "np.argmax(by_minutes['2137'])"
   ]
  },
  {
   "cell_type": "code",
   "execution_count": 65,
   "metadata": {},
   "outputs": [
    {
     "data": {
      "text/plain": [
       "106850"
      ]
     },
     "execution_count": 65,
     "metadata": {},
     "output_type": "execute_result"
    }
   ],
   "source": [
    "50 * 2137"
   ]
  },
  {
   "cell_type": "code",
   "execution_count": null,
   "metadata": {},
   "outputs": [],
   "source": []
  }
 ],
 "metadata": {
  "kernelspec": {
   "display_name": "Python 3",
   "language": "python",
   "name": "python3"
  },
  "language_info": {
   "codemirror_mode": {
    "name": "ipython",
    "version": 3
   },
   "file_extension": ".py",
   "mimetype": "text/x-python",
   "name": "python",
   "nbconvert_exporter": "python",
   "pygments_lexer": "ipython3",
   "version": "3.7.1"
  }
 },
 "nbformat": 4,
 "nbformat_minor": 2
}
