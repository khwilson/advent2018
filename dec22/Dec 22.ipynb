{
 "cells": [
  {
   "cell_type": "code",
   "execution_count": 1,
   "metadata": {},
   "outputs": [],
   "source": [
    "import heapq\n",
    "from collections import namedtuple\n",
    "\n",
    "import numpy as np"
   ]
  },
  {
   "cell_type": "code",
   "execution_count": 2,
   "metadata": {},
   "outputs": [],
   "source": [
    "# True\n",
    "depth = 11991\n",
    "target_x = 6\n",
    "target_y = 797\n",
    "\n",
    "mod = 20183\n",
    "width = 1000\n",
    "\n",
    "\n",
    "# Test\n",
    "# depth = 510\n",
    "# target_x = 10\n",
    "# target_y = 10\n",
    "# mod = 20183\n",
    "# width = 16\n"
   ]
  },
  {
   "cell_type": "code",
   "execution_count": 3,
   "metadata": {},
   "outputs": [],
   "source": [
    "cave_geo = np.zeros((width, width), dtype=int) \n",
    "cave_geo[0:, 0] = np.arange(width) * 16807\n",
    "cave_geo[0, 0:] = np.arange(width) * 48271\n",
    "cave_erosion = cave_geo.copy()\n",
    "\n",
    "cave_erosion[0, :] = (cave_geo[0, :] + depth) % mod\n",
    "cave_erosion[:, 0] = (cave_geo[:, 0] + depth) % mod\n",
    "\n",
    "for x in range(1, width):\n",
    "    for y in range(1, width):\n",
    "        cave_geo[x, y] = (cave_erosion[x - 1, y] * cave_erosion[x, y - 1]) % mod\n",
    "        cave_geo[0, 0] = 0\n",
    "        cave_geo[target_x, target_y] = 0\n",
    "        cave_erosion[x, y] = (cave_geo[x, y] + depth) % mod\n"
   ]
  },
  {
   "cell_type": "code",
   "execution_count": 4,
   "metadata": {},
   "outputs": [],
   "source": [
    "cave_type = cave_erosion % 3\n",
    "cave_type[0, 0] = -1\n",
    "cave_type[target_x, target_y] = -2"
   ]
  },
  {
   "cell_type": "code",
   "execution_count": 5,
   "metadata": {},
   "outputs": [
    {
     "data": {
      "text/plain": [
       "\"lines = []\\nfor y in range(width):\\n    line = []\\n    for x in range(width):\\n        if cave_type[x, y] == -2:\\n            line.append('T')\\n        if cave_type[x, y] == -1:\\n            line.append('M')\\n        if cave_type[x, y] == 0:\\n            line.append('.')\\n        if cave_type[x, y] == 1:\\n            line.append('=')\\n        if cave_type[x, y] == 2:\\n            line.append('|')\\n    print(''.join(line))\\n    lines.append(''.join(line))\\n\""
      ]
     },
     "execution_count": 5,
     "metadata": {},
     "output_type": "execute_result"
    }
   ],
   "source": [
    "# Only for testing\n",
    "\"\"\"lines = []\n",
    "for y in range(width):\n",
    "    line = []\n",
    "    for x in range(width):\n",
    "        if cave_type[x, y] == -2:\n",
    "            line.append('T')\n",
    "        if cave_type[x, y] == -1:\n",
    "            line.append('M')\n",
    "        if cave_type[x, y] == 0:\n",
    "            line.append('.')\n",
    "        if cave_type[x, y] == 1:\n",
    "            line.append('=')\n",
    "        if cave_type[x, y] == 2:\n",
    "            line.append('|')\n",
    "    print(''.join(line))\n",
    "    lines.append(''.join(line))\n",
    "\"\"\""
   ]
  },
  {
   "cell_type": "code",
   "execution_count": 6,
   "metadata": {},
   "outputs": [
    {
     "name": "stdout",
     "output_type": "stream",
     "text": [
      "Answert to part 1: 5622\n"
     ]
    }
   ],
   "source": [
    "print('Answert to part 1:', cave_type[0:target_x + 1, 0:target_y + 1].sum() + 3)  # Handle my bookeeping negatives"
   ]
  },
  {
   "cell_type": "code",
   "execution_count": 7,
   "metadata": {},
   "outputs": [],
   "source": [
    "Status = namedtuple('Status', 'dist tool x y')  # Order for sorting"
   ]
  },
  {
   "cell_type": "code",
   "execution_count": null,
   "metadata": {},
   "outputs": [],
   "source": []
  },
  {
   "cell_type": "code",
   "execution_count": 8,
   "metadata": {},
   "outputs": [],
   "source": [
    "def directions(x, y, width, height):\n",
    "    if x > 0:\n",
    "        yield x - 1, y\n",
    "    if y > 0:\n",
    "        yield x, y - 1\n",
    "    if x + 1 < width:\n",
    "        yield x + 1, y\n",
    "    if y + 1 < height:\n",
    "        yield x, y + 1"
   ]
  },
  {
   "cell_type": "code",
   "execution_count": 9,
   "metadata": {},
   "outputs": [],
   "source": [
    "valid_tools = [['gear', 'torch'], ['gear', 'none'], ['torch', 'none']]"
   ]
  },
  {
   "cell_type": "code",
   "execution_count": 10,
   "metadata": {},
   "outputs": [],
   "source": [
    "# Make sure source and sink are both rocky\n",
    "assert (cave_erosion % 3)[0, 0] == 0\n",
    "assert (cave_erosion % 3)[target_x, target_y] == 0"
   ]
  },
  {
   "cell_type": "code",
   "execution_count": 11,
   "metadata": {},
   "outputs": [
    {
     "name": "stdout",
     "output_type": "stream",
     "text": [
      "Counter 10000 Distance 106\n",
      "Counter 20000 Distance 147\n",
      "Counter 30000 Distance 178\n",
      "Counter 40000 Distance 204\n",
      "Counter 50000 Distance 227\n",
      "Counter 60000 Distance 248\n",
      "Counter 70000 Distance 268\n",
      "Counter 80000 Distance 286\n",
      "Counter 90000 Distance 303\n",
      "Counter 100000 Distance 319\n",
      "Counter 110000 Distance 334\n",
      "Counter 120000 Distance 348\n",
      "Counter 130000 Distance 362\n",
      "Counter 140000 Distance 376\n",
      "Counter 150000 Distance 389\n",
      "Counter 160000 Distance 401\n",
      "Counter 170000 Distance 413\n",
      "Counter 180000 Distance 425\n",
      "Counter 190000 Distance 437\n",
      "Counter 200000 Distance 448\n",
      "Counter 210000 Distance 458\n",
      "Counter 220000 Distance 469\n",
      "Counter 230000 Distance 479\n",
      "Counter 240000 Distance 489\n",
      "Counter 250000 Distance 499\n",
      "Counter 260000 Distance 509\n",
      "Counter 270000 Distance 519\n",
      "Counter 280000 Distance 528\n",
      "Counter 290000 Distance 537\n",
      "Counter 300000 Distance 546\n",
      "Counter 310000 Distance 555\n",
      "Counter 320000 Distance 564\n",
      "Counter 330000 Distance 572\n",
      "Counter 340000 Distance 581\n",
      "Counter 350000 Distance 589\n",
      "Counter 360000 Distance 598\n",
      "Counter 370000 Distance 606\n",
      "Counter 380000 Distance 614\n",
      "Counter 390000 Distance 622\n",
      "Counter 400000 Distance 630\n",
      "Counter 410000 Distance 638\n",
      "Counter 420000 Distance 645\n",
      "Counter 430000 Distance 653\n",
      "Counter 440000 Distance 660\n",
      "Counter 450000 Distance 668\n",
      "Counter 460000 Distance 675\n",
      "Counter 470000 Distance 682\n",
      "Counter 480000 Distance 690\n",
      "Counter 490000 Distance 697\n",
      "Counter 500000 Distance 704\n",
      "Counter 510000 Distance 711\n",
      "Counter 520000 Distance 717\n",
      "Counter 530000 Distance 724\n",
      "Counter 540000 Distance 731\n",
      "Counter 550000 Distance 737\n",
      "Counter 560000 Distance 744\n",
      "Counter 570000 Distance 751\n",
      "Counter 580000 Distance 757\n",
      "Counter 590000 Distance 763\n",
      "Counter 600000 Distance 770\n",
      "Counter 610000 Distance 776\n",
      "Counter 620000 Distance 782\n",
      "Counter 630000 Distance 788\n",
      "Counter 640000 Distance 794\n",
      "Counter 650000 Distance 801\n",
      "Counter 660000 Distance 807\n",
      "Counter 670000 Distance 813\n",
      "Counter 680000 Distance 818\n",
      "Counter 690000 Distance 824\n",
      "Counter 700000 Distance 830\n",
      "Counter 710000 Distance 836\n",
      "Counter 720000 Distance 842\n",
      "Counter 730000 Distance 848\n",
      "Counter 740000 Distance 854\n",
      "Counter 750000 Distance 859\n",
      "Counter 760000 Distance 865\n",
      "Counter 770000 Distance 871\n",
      "Counter 780000 Distance 876\n",
      "Counter 790000 Distance 882\n",
      "Counter 800000 Distance 887\n",
      "Counter 810000 Distance 893\n",
      "Counter 820000 Distance 898\n",
      "Counter 830000 Distance 903\n",
      "Counter 840000 Distance 909\n",
      "Counter 850000 Distance 914\n",
      "Counter 860000 Distance 919\n",
      "Counter 870000 Distance 925\n",
      "Counter 880000 Distance 930\n",
      "Counter 890000 Distance 935\n",
      "Counter 900000 Distance 940\n",
      "Counter 910000 Distance 945\n",
      "Counter 920000 Distance 951\n",
      "Counter 930000 Distance 956\n",
      "Counter 940000 Distance 961\n",
      "Counter 950000 Distance 966\n",
      "Counter 960000 Distance 971\n",
      "Counter 970000 Distance 976\n",
      "Counter 980000 Distance 981\n",
      "Counter 990000 Distance 986\n",
      "Counter 1000000 Distance 991\n",
      "Counter 1010000 Distance 996\n",
      "Counter 1020000 Distance 1001\n",
      "Counter 1030000 Distance 1006\n",
      "Counter 1040000 Distance 1010\n",
      "Counter 1050000 Distance 1015\n",
      "Counter 1060000 Distance 1020\n",
      "Counter 1070000 Distance 1025\n",
      "Counter 1080000 Distance 1029\n",
      "Counter 1090000 Distance 1034\n",
      "Counter 1100000 Distance 1039\n",
      "Counter 1110000 Distance 1043\n",
      "Counter 1120000 Distance 1048\n",
      "Counter 1130000 Distance 1052\n",
      "Counter 1140000 Distance 1057\n",
      "Counter 1150000 Distance 1062\n",
      "Counter 1160000 Distance 1066\n",
      "Counter 1170000 Distance 1071\n",
      "Counter 1180000 Distance 1075\n",
      "Counter 1190000 Distance 1080\n",
      "Counter 1200000 Distance 1084\n"
     ]
    }
   ],
   "source": [
    "queue = [Status(dist=0, tool='torch', x=0, y=0), Status(dist=7, tool='gear', x=0, y=0), Status(dist=7, tool='none', x=0, y=0)]\n",
    "heapq.heapify(queue)\n",
    "setwise = set()\n",
    "\n",
    "distances = {tool: -np.ones(cave_type.shape, dtype=int) for tool in ['none', 'torch', 'gear']}\n",
    "distances['torch'][0, 0] = 0\n",
    "\n",
    "counter = 0\n",
    "while True:\n",
    "    step = heapq.heappop(queue)\n",
    "    counter += 1\n",
    "    if counter % 10000 == 0:\n",
    "        print('Counter {} Distance {}'.format(counter, step.dist))\n",
    "        \n",
    "    if distances[step.tool][target_x, target_y] >= 0:\n",
    "        # We've seen the target\n",
    "        if distances[tool][target_x, target_y] < step.dist:\n",
    "            # We've exhausted all paths of lesser length!\n",
    "            break\n",
    "\n",
    "    # Try changing equipment\n",
    "    for tool in valid_tools[max(cave_type[step.x, step.y], 0)]:\n",
    "        if tool != step.tool:\n",
    "            new_step = Status(dist=step.dist + 7, tool=tool, x=step.x, y=step.y)\n",
    "            if new_step in setwise:\n",
    "                continue\n",
    "                \n",
    "            if distances[tool][new_step.x, new_step.y] >= 0:\n",
    "                if new_step.dist > distances[tool][new_step.x, new_step.y]:\n",
    "                    continue\n",
    "            distances[tool][new_step.x, new_step.y] = new_step.dist\n",
    "            setwise.add(new_step)\n",
    "            heapq.heappush(queue, new_step)\n",
    "            \n",
    "    \n",
    "    # Step in each direction if possible\n",
    "    for new_x, new_y in directions(step.x, step.y, width, width):\n",
    "        can_tools = valid_tools[max(cave_type[new_x, new_y], 0)]\n",
    "        if step.tool not in can_tools:\n",
    "            continue\n",
    "        new_step = Status(dist=step.dist + 1, tool=step.tool, x=new_x, y=new_y)\n",
    "        if new_step in setwise:\n",
    "            # Don't go to the same place twice\n",
    "            continue\n",
    "\n",
    "        if distances[new_step.tool][new_x, new_y] >= 0:\n",
    "            # We've been here with this tool\n",
    "            if new_step.dist > distances[new_step.tool][new_x, new_y]:\n",
    "                # And we've already gotten here faster\n",
    "                continue\n",
    "                    \n",
    "        setwise.add(new_step)\n",
    "\n",
    "        distances[new_step.tool][new_x, new_y] = new_step.dist\n",
    "        heapq.heappush(queue, new_step)"
   ]
  },
  {
   "cell_type": "code",
   "execution_count": 12,
   "metadata": {},
   "outputs": [],
   "source": [
    "min_dist = float('inf')\n",
    "for tool in ['gear', 'torch', 'none']:\n",
    "    add_dist = 7 if tool != 'torch' else 0\n",
    "    poss_dist = distances[tool][target_x, target_y]\n",
    "    if poss_dist >= 0:\n",
    "        min_dist = min(min_dist, poss_dist + add_dist)"
   ]
  },
  {
   "cell_type": "code",
   "execution_count": 13,
   "metadata": {},
   "outputs": [
    {
     "name": "stdout",
     "output_type": "stream",
     "text": [
      "The answer to part 2 is: 1089\n"
     ]
    }
   ],
   "source": [
    "print('The answer to part 2 is:', min_dist)"
   ]
  }
 ],
 "metadata": {
  "kernelspec": {
   "display_name": "Python 3",
   "language": "python",
   "name": "python3"
  },
  "language_info": {
   "codemirror_mode": {
    "name": "ipython",
    "version": 3
   },
   "file_extension": ".py",
   "mimetype": "text/x-python",
   "name": "python",
   "nbconvert_exporter": "python",
   "pygments_lexer": "ipython3",
   "version": "3.7.1"
  }
 },
 "nbformat": 4,
 "nbformat_minor": 2
}
