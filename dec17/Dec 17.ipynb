{
 "cells": [
  {
   "cell_type": "code",
   "execution_count": 1,
   "metadata": {},
   "outputs": [],
   "source": [
    "import numpy as np"
   ]
  },
  {
   "cell_type": "code",
   "execution_count": 2,
   "metadata": {},
   "outputs": [],
   "source": [
    "def print_grid(grid, min_x):\n",
    "    for y in range(grid.shape[1]):\n",
    "        for x in range(min_x, grid.shape[0]):\n",
    "            if grid[x, y] == 0:\n",
    "                print('.', end='')\n",
    "            elif grid[x, y] == 2:\n",
    "                print('~', end='')\n",
    "            elif grid[x, y] == 3:\n",
    "                print('|', end='')\n",
    "            elif grid[x, y] == 1:\n",
    "                print('#', end='')\n",
    "            else:\n",
    "                print(grid[x, y], end='')\n",
    "        print()"
   ]
  },
  {
   "cell_type": "code",
   "execution_count": 3,
   "metadata": {},
   "outputs": [
    {
     "data": {
      "text/plain": [
       "True"
      ]
     },
     "execution_count": 3,
     "metadata": {},
     "output_type": "execute_result"
    }
   ],
   "source": [
    "xvals = []\n",
    "yvals = []\n",
    "\n",
    "with open('input.txt') as f:\n",
    "    for line in f:\n",
    "        line = line.strip()\n",
    "        if not line:\n",
    "            break\n",
    "        left, right = line.split(' ')\n",
    "        left_val = int(left[2:-1])\n",
    "        \n",
    "        right_first_val, right_last_val = list(map(int, right[2:].split('..')))\n",
    "        if left[0] == 'x':\n",
    "            xvals.append(int(left[2:-1]))\n",
    "            yvals.extend(range(right_first_val, right_last_val + 1))\n",
    "        else:\n",
    "            yvals.append(int(left[2:-1]))\n",
    "            xvals.extend(range(right_first_val, right_last_val + 1))\n",
    "\n",
    "grid = np.zeros((max(xvals) + 10, max(yvals) + 1), dtype=int)\n",
    "\n",
    "with open('input.txt') as f:\n",
    "    for line in f:\n",
    "        line = line.strip()\n",
    "        if not line:\n",
    "            break\n",
    "        left, right = line.split(' ')\n",
    "        left_val = int(left[2:-1])\n",
    "        \n",
    "        right_first_val, right_last_val = list(map(int, right[2:].split('..')))\n",
    "        if left[0] == 'x':\n",
    "            grid[left_val, right_first_val:right_last_val+1] = 1\n",
    "        else:\n",
    "            grid[right_first_val:right_last_val+1, left_val] = 1\n",
    "\n",
    "\n",
    "def do_downpour(grid, spout):\n",
    "    cur_pour_x, cur_pour_y = spout\n",
    "    \n",
    "    if cur_pour_y + 1 >= grid.shape[1]:\n",
    "        # We've hit the bottom of the screen!\n",
    "        return True\n",
    "\n",
    "    hit_bottom = False\n",
    "    while grid[cur_pour_x, cur_pour_y + 1] == 0:\n",
    "        grid[cur_pour_x, cur_pour_y + 1] = 3\n",
    "        cur_pour_y += 1\n",
    "        if cur_pour_y + 1>= grid.shape[1]:\n",
    "            # We've hit the bottom of the screen!\n",
    "            hit_bottom = True\n",
    "            break\n",
    "    if hit_bottom:\n",
    "        return True\n",
    "        \n",
    "    # Now we've hit clay or water. If the water downpours, we can stop\n",
    "    if grid[cur_pour_x, cur_pour_y + 1] == 3:\n",
    "        return True\n",
    "    \n",
    "    # Now we've either hit clay or water that doesn't downpour, which is\n",
    "    # the same. Keep up filling until we spill over\n",
    "    while True:\n",
    "        left_x = cur_pour_x\n",
    "        found_downpour_left = found_downpour_right = False\n",
    "\n",
    "        while grid[left_x - 1, cur_pour_y] != 1:\n",
    "            left_x -= 1\n",
    "\n",
    "            assert grid[left_x, cur_pour_y] != 3\n",
    "            \n",
    "            # If I hit water, then just go ahead and skip.\n",
    "            # since this wasn't a downpour\n",
    "            if grid[left_x, cur_pour_y] == 2:\n",
    "                continue\n",
    "            \n",
    "            # We have empty space left. It gets filled and we\n",
    "            # check if it has a potential downpour\n",
    "            grid[left_x, cur_pour_y] = 2\n",
    "            if grid[left_x, cur_pour_y + 1] == 0:\n",
    "                # We've found our new downpour on the left.\n",
    "                # Attempt to go down it\n",
    "                found_downpour_left = do_downpour(grid, (left_x, cur_pour_y))\n",
    "                if found_downpour_left:\n",
    "                    break\n",
    "            elif grid[left_x, cur_pour_y + 1] == 3:\n",
    "                # We found a downpour already! We're done!\n",
    "                found_downpour_left = True\n",
    "                break\n",
    "                \n",
    "        # We *always* need to check to the right at least for this round\n",
    "        right_x = cur_pour_x\n",
    "        while grid[right_x + 1, cur_pour_y] != 1:\n",
    "            right_x += 1\n",
    "            \n",
    "            # We can't hit a downspout or else we'd be flooded already\n",
    "            assert grid[right_x, cur_pour_y] != 3\n",
    "            \n",
    "            # We can't hit plain water because we're DFSing to the left\n",
    "            assert grid[right_x, cur_pour_y] != 2\n",
    "            \n",
    "            # So we're left with empty space. It gets filled and we check for potential downpours\n",
    "            grid[right_x, cur_pour_y] = 2\n",
    "            if grid[right_x, cur_pour_y + 1] == 0:\n",
    "                # We've found our new downpour on the right\n",
    "                found_downpour_right = do_downpour(grid, (right_x, cur_pour_y))\n",
    "                if found_downpour_right:\n",
    "                    break\n",
    "            elif grid[right_x, cur_pour_y + 1] == 3:\n",
    "                found_downpour_right = True\n",
    "                break\n",
    "\n",
    "        found_downpour = found_downpour_left | found_downpour_right\n",
    "        if found_downpour:\n",
    "            grid[left_x:right_x + 1, cur_pour_y] = 3\n",
    "            return True\n",
    "        else:\n",
    "            grid[left_x:right_x + 1, cur_pour_y] = 2\n",
    "\n",
    "        # The water rises\n",
    "        cur_pour_y -= 1\n",
    "        if cur_pour_y == spout[1]:\n",
    "            # The water rose to the original level. This is no bueno\n",
    "            return False\n",
    "        \n",
    "do_downpour(grid, (500, 0))"
   ]
  },
  {
   "cell_type": "code",
   "execution_count": 4,
   "metadata": {},
   "outputs": [
    {
     "name": "stdout",
     "output_type": "stream",
     "text": [
      "Answer to part 1: 31412\n",
      "Answer to part 2: 25857\n"
     ]
    }
   ],
   "source": [
    "print('Answer to part 1:', (grid[:, min(yvals):] > 1).sum())\n",
    "print('Answer to part 2:', (grid[:, min(yvals):] == 2).sum())"
   ]
  },
  {
   "cell_type": "code",
   "execution_count": 5,
   "metadata": {},
   "outputs": [],
   "source": [
    "from matplotlib import pyplot as plt\n",
    "plt.imsave('coolgraph.tif', grid.T)"
   ]
  }
 ],
 "metadata": {
  "kernelspec": {
   "display_name": "Python 3",
   "language": "python",
   "name": "python3"
  },
  "language_info": {
   "codemirror_mode": {
    "name": "ipython",
    "version": 3
   },
   "file_extension": ".py",
   "mimetype": "text/x-python",
   "name": "python",
   "nbconvert_exporter": "python",
   "pygments_lexer": "ipython3",
   "version": "3.7.1"
  }
 },
 "nbformat": 4,
 "nbformat_minor": 2
}
