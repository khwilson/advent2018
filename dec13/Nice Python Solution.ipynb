{
 "cells": [
  {
   "cell_type": "code",
   "execution_count": 1,
   "metadata": {},
   "outputs": [],
   "source": [
    "from collections import defaultdict"
   ]
  },
  {
   "cell_type": "code",
   "execution_count": 2,
   "metadata": {},
   "outputs": [],
   "source": [
    "grid = defaultdict(lambda: ' ')\n",
    "trains = []"
   ]
  },
  {
   "cell_type": "code",
   "execution_count": 3,
   "metadata": {},
   "outputs": [],
   "source": [
    "max_x = 0\n",
    "max_y = 0\n",
    "with open('input.txt') as f:\n",
    "    for y, line in enumerate(f):\n",
    "        max_y = y + 1\n",
    "        for x, c in enumerate(line):\n",
    "            max_x = max(x + 1, max_x)\n",
    "            if c in ['+', '\\\\', '/', '-', '|']:\n",
    "                grid[(x, y)] = c\n",
    "            if c in ['^', 'v']:\n",
    "                grid[(x, y)] = '|'\n",
    "                trains.append([y, x, -1j if c == '^' else 1j, 0])\n",
    "            if c in ['<', '>']:\n",
    "                grid[(x, y)] = '-'\n",
    "                trains.append([y, x, 1 if c == '>' else -1, 0])\n",
    "\n",
    "                \n",
    "def print_data(grid, trains):\n",
    "    output = [[grid[(x, y)] for x in range(max_x)] for y in range(max_y)]\n",
    "    for train in trains:\n",
    "        y, x = int(train[0]), int(train[1])\n",
    "        if train[2] == 1:\n",
    "            output[y][x] = '>'\n",
    "        elif train[2] == -1:\n",
    "            output[y][x] = '<'\n",
    "        elif train[2] == -1j:\n",
    "            output[y][x] = '^'\n",
    "        elif train[2] == 1j:\n",
    "            output[y][x] = 'v'\n",
    "    print('\\n'.join(''.join(line) for line in output))\n",
    "\n",
    "#print_data(grid, trains)"
   ]
  },
  {
   "cell_type": "code",
   "execution_count": 4,
   "metadata": {},
   "outputs": [
    {
     "name": "stdout",
     "output_type": "stream",
     "text": [
      "Crash at 69,46\n",
      "Crash at 16,15\n",
      "Crash at 118,84\n",
      "Crash at 80,51\n",
      "Crash at 114,70\n",
      "Crash at 14,99\n",
      "Crash at 108,141\n",
      "Crash at 101,87\n",
      "Final train at 118,108\n"
     ]
    }
   ],
   "source": [
    "while len(trains) > 1:\n",
    "    trains.sort()\n",
    "    dead_trains = [False] * len(trains)\n",
    "    for i, train in enumerate(trains):\n",
    "        if dead_trains[i]: continue\n",
    "        train[0] = int(train[0] + train[2].imag)\n",
    "        train[1] = int(train[1] + train[2].real)\n",
    "        if grid[(train[1], train[0])] == '/':\n",
    "            train[2] *= -1j\n",
    "            if train[2] in [1, -1]:\n",
    "                train[2] *= -1\n",
    "        elif grid[(train[1], train[0])] == '\\\\':\n",
    "            train[2] *= 1j\n",
    "            if train[2] in [1, -1]:\n",
    "                train[2] *= -1\n",
    "        elif grid[(train[1], train[0])] == '+':\n",
    "            if train[3] == 0:\n",
    "                train[2] *= -1j\n",
    "            elif train[3] == 1:\n",
    "                pass\n",
    "            elif train[3] == 2:\n",
    "                train[2] *= 1j\n",
    "            train[3] = (train[3] + 1) % 3\n",
    "        for j, other_train in enumerate(trains):\n",
    "            if dead_trains[j] or i == j: continue\n",
    "            if train[0] == other_train[0] and train[1] == other_train[1]:\n",
    "                dead_trains[i] = dead_trains[j] = True\n",
    "                print(\"Crash at {},{}\".format(train[1], train[0]))\n",
    "    trains = [train for train, dead in zip(trains, dead_trains) if not dead]\n",
    "\n",
    "if trains:\n",
    "    print(\"Final train at {},{}\".format(trains[0][1], trains[0][0]))\n",
    "else:\n",
    "    print(\"No more trains!\")"
   ]
  }
 ],
 "metadata": {
  "kernelspec": {
   "display_name": "Python 3",
   "language": "python",
   "name": "python3"
  },
  "language_info": {
   "codemirror_mode": {
    "name": "ipython",
    "version": 3
   },
   "file_extension": ".py",
   "mimetype": "text/x-python",
   "name": "python",
   "nbconvert_exporter": "python",
   "pygments_lexer": "ipython3",
   "version": "3.7.1"
  }
 },
 "nbformat": 4,
 "nbformat_minor": 2
}
