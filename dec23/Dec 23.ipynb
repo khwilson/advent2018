{
 "cells": [
  {
   "cell_type": "code",
   "execution_count": 1,
   "metadata": {},
   "outputs": [],
   "source": [
    "import numpy as np\n",
    "import re\n",
    "from collections import Counter, namedtuple"
   ]
  },
  {
   "cell_type": "code",
   "execution_count": 2,
   "metadata": {},
   "outputs": [],
   "source": [
    "Bot = namedtuple('Bot', 'x y z r')\n",
    "LINE_RE = re.compile(r'pos=< *(-?\\d+), *(-?\\d+), *(-?\\d+)>, *r=*(-?\\d+)')"
   ]
  },
  {
   "cell_type": "code",
   "execution_count": 3,
   "metadata": {},
   "outputs": [],
   "source": [
    "bots = []\n",
    "with open('input.txt') as f:\n",
    "    for line in f:\n",
    "        vals = list(map(int, LINE_RE.findall(line)[0]))\n",
    "        bots.append(Bot(x=vals[0], y=vals[1], z=vals[2], r=vals[3]))"
   ]
  },
  {
   "cell_type": "code",
   "execution_count": 4,
   "metadata": {},
   "outputs": [],
   "source": [
    "with open('coords.txt', 'w') as f:\n",
    "    for i, bot in enumerate(bots, 1):\n",
    "        print('{} {} {} {} {}'.format(i, bot.x, bot.y, bot.z, bot.r), file=f)"
   ]
  },
  {
   "cell_type": "code",
   "execution_count": 5,
   "metadata": {},
   "outputs": [
    {
     "data": {
      "text/plain": [
       "Counter({1: 1000})"
      ]
     },
     "execution_count": 5,
     "metadata": {},
     "output_type": "execute_result"
    }
   ],
   "source": [
    "# Is there a unique maximum bot? Yes\n",
    "Counter(Counter(bot.r for bot in bots).values())"
   ]
  },
  {
   "cell_type": "code",
   "execution_count": 6,
   "metadata": {},
   "outputs": [],
   "source": [
    "max_bot = sorted(bots, key=lambda bot: bot.r)[-1]"
   ]
  },
  {
   "cell_type": "code",
   "execution_count": 7,
   "metadata": {},
   "outputs": [],
   "source": [
    "def dist(bot1, bot2):\n",
    "    return abs(bot1.x - bot2.x) + abs(bot1.y - bot2.y) + abs(bot1.z - bot2.z)"
   ]
  },
  {
   "cell_type": "code",
   "execution_count": 8,
   "metadata": {},
   "outputs": [],
   "source": [
    "bots_in_range = [bot for bot in bots if dist(bot, max_bot) <= max_bot.r]"
   ]
  },
  {
   "cell_type": "code",
   "execution_count": 9,
   "metadata": {},
   "outputs": [
    {
     "name": "stdout",
     "output_type": "stream",
     "text": [
      "The answer to part 1 is: 499\n"
     ]
    }
   ],
   "source": [
    "print('The answer to part 1 is:', len(bots_in_range))"
   ]
  },
  {
   "cell_type": "markdown",
   "metadata": {},
   "source": [
    "### Part 2\n",
    "\n",
    "This turned out to be a horrendous problem that requires some branch and bound action due to the fact that we're in 3d and so Helly's theorem only gets you to _quadruples_ of intersections. Sigh. So below is a an (integer) linear program that will do the trick, but it runs too slow with the base Python stuff and my tiny box. So I stole a solution using Microsoft's Z3 solver from [this thread](https://www.reddit.com/r/adventofcode/comments/a8s17l/2018_day_23_solutions/) and ran it on a big ole AWS box because this is annoying.\n",
    "\n",
    "The linear program in full is as follows: Let $x = (x_1, x_2, x_3)$ be the point we're searching for. Then the $L^1$ balls are bounded by $Ax \\leq Ac_i + r_i$ where $c_i$ is the center of the $i$th ball and $r_i$ is its radius. Note that if we add a slack variable $y_i \\in \\{0, 1\\}$ then we can _conditionally_ expand all radii by $M$ by replacing these constraints with $Ax \\leq Ac_i + r_i + y_iM$. Thus, if we take $M \\gg 0$ (e.g., the maximum $L^1$ distance from the origin of any point in any ball, which is just $2\\max \\| c_i \\|_1 + r_i$, then we are good.\n",
    "\n",
    "Then we simply find $(x, y)$ such that $\\sum y_i$ is minimized and subject to the constraints $x$ is integral, $y$ is binary, and\n",
    "\n",
    "$$ Ax \\leq Ac_i + r + 2 y_i \\max_j (\\|c_j\\|_1 + r_j) $$"
   ]
  },
  {
   "cell_type": "code",
   "execution_count": 10,
   "metadata": {},
   "outputs": [],
   "source": [
    "# The basic shape of the L1 ball\n",
    "A = np.array([\n",
    "    [1, 1, 1], \n",
    "    [1, 1, -1],\n",
    "    [1, -1, 1], \n",
    "    [1, -1, -1],\n",
    "    [-1, 1, 1], \n",
    "    [-1, 1, -1],\n",
    "    [-1, -1, 1], \n",
    "    [-1, -1, -1]])\n",
    "\n",
    "# Max additional radius\n",
    "M = 2 * max(abs(bot.x) + abs(bot.y) + abs(bot.z) + bot.r for bot in bots)\n",
    "\n",
    "# A ball for every bot\n",
    "bot_A = np.vstack([A] * len(bots))\n",
    "\n",
    "# Recenter the balls and give them the desired radius\n",
    "def b_from_bot(bot):\n",
    "    return A @ np.array([bot.x, bot.y, bot.z]).T + bot.r\n",
    "\n",
    "bot_b = np.array([b for bot in bots for b in b_from_bot(bot)])\n",
    "\n",
    "# Add optional slack variables: We'll *minimize* the number that is used!\n",
    "slack = np.zeros((bot_A.shape[0], len(bots)))\n",
    "for i in range(slack.shape[0]):\n",
    "    slack[i, i // A.shape[0]] = M\n",
    "    \n",
    "# Stack all of our constraints together\n",
    "with_slack_A = np.hstack([bot_A, -slack])\n",
    "bound_slack = np.hstack([np.zeros((len(bots), bot_A.shape[1])), -np.eye(len(bots))])\n",
    "all_A = np.vstack([with_slack_A, bound_slack])\n",
    "all_b = np.hstack([bot_b, np.zeros(len(bots))])\n",
    "\n",
    "# Minimize the number of slack variables that are used\n",
    "c = np.hstack([np.zeros(3), np.ones(1000)])\n",
    "\n",
    "# Do the program. This turns out to be hard in python....\n",
    "# linprog(c, all_A, all_b)"
   ]
  },
  {
   "cell_type": "code",
   "execution_count": 22,
   "metadata": {},
   "outputs": [
    {
     "name": "stdout",
     "output_type": "stream",
     "text": [
      "\n",
      "\n"
     ]
    }
   ],
   "source": [
    "# Since linear programs are hard in python, we just output this to \n",
    "\n",
    "with open('dec23.mod', 'w') as f:\n",
    "    print(\"\"\"\\\n",
    "# A big number\n",
    "param M;\n",
    "\n",
    "# Balls: Index, x, y, z, radius\n",
    "set I, dimen 5;\n",
    "\n",
    "# Indices\n",
    "set J := setof{(i, cx, cy, cz, r) in I} i;\n",
    "\n",
    "# Location of point in intersection\n",
    "set ddims := {1, 2, 3};\n",
    "var x{ddims}, integer;\n",
    "\n",
    "# Positive variables are *not* in the intersection\n",
    "var slack{J}, binary;\n",
    "\n",
    "minimize obj :\n",
    "  sum{(i, cx, cy, cz, r) in I} slack[i];\n",
    "\n",
    "s.t. plane1 {(i, cx, cy, cz, r) in I} :\n",
    "  (x[1] - cx) + (x[2] - cy) + (x[3] - cz) <= r + M * slack[i];\n",
    "\n",
    "s.t. plane2 {(i, cx, cy, cz, r) in I} :\n",
    "  (x[1] - cx) + (x[2] - cy) - (x[3] - cz) <= r + M * slack[i];\n",
    "\n",
    "s.t. plane3 {(i, cx, cy, cz, r) in I} :\n",
    "  (x[1] - cx) - (x[2] - cy) + (x[3] - cz) <= r + M * slack[i];\n",
    "\n",
    "s.t. plane4 {(i, cx, cy, cz, r) in I} :\n",
    "  (x[1] - cx) - (x[2] - cy) - (x[3] - cz) <= r + M * slack[i];\n",
    "\n",
    "s.t. plane5 {(i, cx, cy, cz, r) in I} :\n",
    "  -(x[1] - cx) + (x[2] - cy) + (x[3] - cz) <= r + M * slack[i];\n",
    "\n",
    "s.t. plane6 {(i, cx, cy, cz, r) in I} :\n",
    "  -(x[1] - cx) + (x[2] - cy) - (x[3] - cz) <= r + M * slack[i];\n",
    "\n",
    "s.t. plane7 {(i, cx, cy, cz, r) in I} :\n",
    "  -(x[1] - cx) - (x[2] - cy) + (x[3] - cz) <= r + M * slack[i];\n",
    "\n",
    "s.t. plane8 {(i, cx, cy, cz, r) in I} :\n",
    "  -(x[1] - cx) - (x[2] - cy) - (x[3] - cz) <= r + M * slack[i];\n",
    "\n",
    "solve;\n",
    "\n",
    "printf \"The central coordinate is:\\\\n\";\n",
    "printf \"%i \", x[1];\n",
    "printf \"%i \", x[2];\n",
    "printf \"%i \", x[3];\n",
    "printf \"\\\\n\";\n",
    "printf \"The answer to part 2 is: \";\n",
    "printf \"%i\", x[1] + x[2] + x[3];\n",
    "\n",
    "data;\n",
    "\n",
    "# Size of the knapsack\"\"\", file=f)\n",
    "    print('param M :=', M, ';', file=f)\n",
    "    print()\n",
    "\n",
    "    print(\"\"\"\\\n",
    "# Items: index, size, profit\n",
    "set I :=\"\"\", file=f)\n",
    "\n",
    "    for i, bot in enumerate(bots, 1):\n",
    "        fstr = '  {} {} {} {} {}'\n",
    "        if i == len(bots):\n",
    "            fstr += ';'\n",
    "        print(fstr.format(i, bot.x, bot.y, bot.z, bot.r), file=f)\n",
    "\n",
    "    print()\n",
    "    print('end;', file=f)\n"
   ]
  },
  {
   "cell_type": "code",
   "execution_count": 11,
   "metadata": {},
   "outputs": [
    {
     "name": "stdout",
     "output_type": "stream",
     "text": [
      "sat\n",
      "b 80162663 80162663\n"
     ]
    }
   ],
   "source": [
    "from z3 import If, Int, Optimize\n",
    "\n",
    "def zabs(x):\n",
    "    return If(x >= 0,x,-x)\n",
    "\n",
    "(x, y, z) = (Int('x'), Int('y'), Int('z'))\n",
    "in_ranges = [Int('in_range_' + str(i)) for i in range(len(bots))]\n",
    "range_count = Int('sum')\n",
    "o = Optimize()\n",
    "\n",
    "for in_range, bot in zip(in_ranges, bots):\n",
    "    o.add(in_range == If(zabs(x - bot.x) + zabs(y - bot.y) + zabs(z - bot.z) <= bot.r, 1, 0))\n",
    "\n",
    "o.add(range_count == sum(in_ranges))\n",
    "dist_from_zero = Int('dist')\n",
    "\n",
    "o.add(dist_from_zero == zabs(x) + zabs(y) + zabs(z))\n",
    "\n",
    "h1 = o.maximize(range_count)\n",
    "h2 = o.minimize(dist_from_zero)\n",
    "\n",
    "print(o.check())\n",
    "print('The answer to part 2 is:', o.lower(h2))"
   ]
  },
  {
   "cell_type": "code",
   "execution_count": null,
   "metadata": {},
   "outputs": [],
   "source": []
  }
 ],
 "metadata": {
  "kernelspec": {
   "display_name": "Python 3",
   "language": "python",
   "name": "python3"
  },
  "language_info": {
   "codemirror_mode": {
    "name": "ipython",
    "version": 3
   },
   "file_extension": ".py",
   "mimetype": "text/x-python",
   "name": "python",
   "nbconvert_exporter": "python",
   "pygments_lexer": "ipython3",
   "version": "3.7.1"
  }
 },
 "nbformat": 4,
 "nbformat_minor": 2
}
