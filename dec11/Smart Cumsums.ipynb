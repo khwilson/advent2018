{
 "cells": [
  {
   "cell_type": "code",
   "execution_count": 1,
   "metadata": {},
   "outputs": [],
   "source": [
    "import numpy as np"
   ]
  },
  {
   "cell_type": "code",
   "execution_count": 2,
   "metadata": {},
   "outputs": [],
   "source": [
    "WIDTH = 300\n",
    "SERIAL_NUMBER = 8979"
   ]
  },
  {
   "cell_type": "code",
   "execution_count": 3,
   "metadata": {},
   "outputs": [],
   "source": [
    "grid = np.zeros((WIDTH, WIDTH), dtype=int)\n",
    "\n",
    "for x in range(WIDTH):\n",
    "    for y in range(WIDTH):\n",
    "        rack_id = (x + 10 + 1)\n",
    "        power_base = rack_id * (y + 1)\n",
    "        power_plus = power_base + SERIAL_NUMBER\n",
    "        power_level = power_plus * rack_id\n",
    "        power_almost = (power_level % 1000) // 100\n",
    "        power = power_almost - 5\n",
    "        assert power > -10 and power < 10\n",
    "        grid[y, x] = power"
   ]
  },
  {
   "cell_type": "code",
   "execution_count": 7,
   "metadata": {},
   "outputs": [],
   "source": [
    "row_cumsums = np.cumsum(grid, axis=1)\n",
    "col_cumsums = np.cumsum(grid, axis=0)"
   ]
  },
  {
   "cell_type": "code",
   "execution_count": 8,
   "metadata": {},
   "outputs": [],
   "source": [
    "current_grid = grid.copy()\n",
    "\n",
    "mmax_x, mmax_y, mmax_val, mmax_window = 0, 0, 0, 0\n",
    "for window in range(2, WIDTH + 1):\n",
    "    next_grid = current_grid.copy()\n",
    "    next_grid = next_grid[:-1, :-1]\n",
    "    next_grid += row_cumsums[(window - 1):, (window - 1):]\n",
    "    next_grid[:, 1:] -= row_cumsums[(window - 1):, :-window]\n",
    "    next_grid += col_cumsums[(window - 1):, (window - 1):]\n",
    "    next_grid[1:, :] -= col_cumsums[:-window, (window - 1):]\n",
    "    next_grid -= grid[(window - 1):, (window - 1):]\n",
    "    \n",
    "    max_x, max_y = np.unravel_index(np.argmax(next_grid), next_grid.shape)\n",
    "    max_val = current_grid[max_x, max_y]\n",
    "    if max_val > mmax_val:\n",
    "        mmax_x = max_x\n",
    "        mmax_y = max_y\n",
    "        mmax_val = max_val\n",
    "        mmax_window = window\n",
    "    current_grid = next_grid.copy()"
   ]
  },
  {
   "cell_type": "code",
   "execution_count": 9,
   "metadata": {},
   "outputs": [
    {
     "name": "stdout",
     "output_type": "stream",
     "text": [
      "Answer is (window=14, val=161, x=117, y=234)\n"
     ]
    }
   ],
   "source": [
    "print(\"Answer is (window={}, val={}, x={}, y={})\".format(mmax_window, mmax_val, mmax_x, mmax_y))"
   ]
  },
  {
   "cell_type": "code",
   "execution_count": 55,
   "metadata": {},
   "outputs": [
    {
     "data": {
      "text/plain": [
       "True"
      ]
     },
     "execution_count": 55,
     "metadata": {},
     "output_type": "execute_result"
    }
   ],
   "source": [
    "# You can test with this if you'd like\n",
    "\n",
    "\n",
    "true_next_grid = np.zeros((WIDTH - 1, WIDTH - 1), dtype=int)\n",
    "for x in range(WIDTH - 1):\n",
    "    for y in range(WIDTH - 1):\n",
    "        for i in range(2):\n",
    "            for j in range(2):\n",
    "                true_next_grid[y, x] += grid[y + j, x + i]\n",
    "(true_next_grid == next_grid).all()"
   ]
  },
  {
   "cell_type": "code",
   "execution_count": null,
   "metadata": {},
   "outputs": [],
   "source": []
  }
 ],
 "metadata": {
  "kernelspec": {
   "display_name": "Python 3",
   "language": "python",
   "name": "python3"
  }
 },
 "nbformat": 4,
 "nbformat_minor": 2
}
